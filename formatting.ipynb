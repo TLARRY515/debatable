{
 "cells": [
  {
   "cell_type": "code",
   "execution_count": 223,
   "metadata": {
    "collapsed": false
   },
   "outputs": [],
   "source": [
    "import pandas as pd\n",
    "import matplotlib.pyplot as plt\n",
    "%matplotlib inline\n",
    "\n",
    "def load_data():\n",
    "    df = pd.DataFrame(pd.read_csv(\"debate.csv\", encoding=\"latin-1\"))\n",
    "    return df\n",
    "\n",
    "if __name__ == \"__main__\":\n",
    "    transcript = load_data()"
   ]
  },
  {
   "cell_type": "code",
   "execution_count": 224,
   "metadata": {
    "collapsed": false
   },
   "outputs": [
    {
     "name": "stdout",
     "output_type": "stream",
     "text": [
      "First debate shape: (351, 4)\n",
      "Second debate shape: (313, 4)\n"
     ]
    },
    {
     "data": {
      "text/html": [
       "<div>\n",
       "<table border=\"1\" class=\"dataframe\">\n",
       "  <thead>\n",
       "    <tr style=\"text-align: right;\">\n",
       "      <th></th>\n",
       "      <th>Line</th>\n",
       "      <th>Speaker</th>\n",
       "      <th>Text</th>\n",
       "      <th>Date</th>\n",
       "    </tr>\n",
       "  </thead>\n",
       "  <tbody>\n",
       "    <tr>\n",
       "      <th>346</th>\n",
       "      <td>347</td>\n",
       "      <td>Trump</td>\n",
       "      <td>The other day, we were deporting 800 people. A...</td>\n",
       "      <td>2016-09-26</td>\n",
       "    </tr>\n",
       "    <tr>\n",
       "      <th>347</th>\n",
       "      <td>348</td>\n",
       "      <td>Holt</td>\n",
       "      <td>Will you accept the outcome of the election?</td>\n",
       "      <td>2016-09-26</td>\n",
       "    </tr>\n",
       "    <tr>\n",
       "      <th>348</th>\n",
       "      <td>349</td>\n",
       "      <td>Trump</td>\n",
       "      <td>Look, here's the story. I want to make America...</td>\n",
       "      <td>2016-09-26</td>\n",
       "    </tr>\n",
       "    <tr>\n",
       "      <th>349</th>\n",
       "      <td>350</td>\n",
       "      <td>Audience</td>\n",
       "      <td>(APPLAUSE)</td>\n",
       "      <td>2016-09-26</td>\n",
       "    </tr>\n",
       "    <tr>\n",
       "      <th>350</th>\n",
       "      <td>351</td>\n",
       "      <td>Holt</td>\n",
       "      <td>All right. Well, that is going to do it for us...</td>\n",
       "      <td>2016-09-26</td>\n",
       "    </tr>\n",
       "  </tbody>\n",
       "</table>\n",
       "</div>"
      ],
      "text/plain": [
       "     Line   Speaker                                               Text  \\\n",
       "346   347     Trump  The other day, we were deporting 800 people. A...   \n",
       "347   348      Holt       Will you accept the outcome of the election?   \n",
       "348   349     Trump  Look, here's the story. I want to make America...   \n",
       "349   350  Audience                                         (APPLAUSE)   \n",
       "350   351      Holt  All right. Well, that is going to do it for us...   \n",
       "\n",
       "           Date  \n",
       "346  2016-09-26  \n",
       "347  2016-09-26  \n",
       "348  2016-09-26  \n",
       "349  2016-09-26  \n",
       "350  2016-09-26  "
      ]
     },
     "execution_count": 224,
     "metadata": {},
     "output_type": "execute_result"
    }
   ],
   "source": [
    "##group by debate\n",
    "prez_debate1 = transcript[transcript[\"Date\"] == \"2016-09-26\"]\n",
    "prez_debate2 = transcript[transcript[\"Date\"] == \"2016-10-09\"]\n",
    "print(\"First debate shape:\", prez_debate1.shape)\n",
    "print(\"Second debate shape:\", prez_debate2.shape)\n",
    "prez_debate1.tail(5)"
   ]
  },
  {
   "cell_type": "code",
   "execution_count": 225,
   "metadata": {
    "collapsed": false
   },
   "outputs": [
    {
     "name": "stdout",
     "output_type": "stream",
     "text": [
      "First debate Clinton: 96\n",
      "First debate Trump: 131\n"
     ]
    }
   ],
   "source": [
    "##gather candidates' words for first election\n",
    "clinton1 = prez_debate1[prez_debate1[\"Speaker\"] == \"Clinton\"]\n",
    "clinton1_words = clinton1[\"Text\"]\n",
    "trump1 = prez_debate1[prez_debate1[\"Speaker\"] == \"Trump\"]\n",
    "trump1_words = trump1[\"Text\"]\n",
    "\n",
    "## gather candidates' words for second election\n",
    "clinton2 = prez_debate2[prez_debate2[\"Speaker\"] == \"Clinton\"]\n",
    "clinton2_words = clinton2[\"Text\"]\n",
    "trump2 = prez_debate1[prez_debate1[\"Speaker\"] == \"Trump\"]\n",
    "trump2_words = trump1[\"Text\"]\n",
    "\n",
    "print(\"First debate Clinton:\", len(clinton1))\n",
    "print(\"First debate Trump:\", len(trump1))"
   ]
  },
  {
   "cell_type": "code",
   "execution_count": 226,
   "metadata": {
    "collapsed": false
   },
   "outputs": [],
   "source": [
    "clinton1_lengths = []\n",
    "clinton1_wc = 0\n",
    "\n",
    "for response in clinton1_words:\n",
    "    clinton1_lengths.append(len(response.split()))\n",
    "    clinton1_wc += len(response.split())\n",
    "\n",
    "clinton2_lengths = []\n",
    "clinton2_wc = 0\n",
    "\n",
    "for response in clinton2_words:\n",
    "    clinton2_lengths.append(len(response.split()))\n",
    "    clinton2_wc += len(response.split())"
   ]
  },
  {
   "cell_type": "code",
   "execution_count": 227,
   "metadata": {
    "collapsed": true
   },
   "outputs": [],
   "source": [
    "trump1_lengths = []\n",
    "trump1_wc = 0\n",
    "\n",
    "for response in trump1_words:\n",
    "    trump1_lengths.append(len(response.split()))\n",
    "    trump1_wc += len(response.split())\n",
    "\n",
    "trump2_lengths = []\n",
    "trump2_wc = 0\n",
    "\n",
    "for response in trump2_words:\n",
    "    trump2_lengths.append(len(response.split()))\n",
    "    trump2_wc += len(response.split())"
   ]
  },
  {
   "cell_type": "code",
   "execution_count": 228,
   "metadata": {
    "collapsed": false
   },
   "outputs": [
    {
     "data": {
      "image/png": "[encoded data removed]",
      "text/plain": [
       "<matplotlib.figure.Figure at 0x115e8c898>"
      ]
     },
     "metadata": {},
     "output_type": "display_data"
    }
   ],
   "source": [
    "x = [clinton1_words.index, trump1_words.index]\n",
    "plt.bar(x[0], clinton1_lengths, color=\"b\")\n",
    "plt.bar(x[1], trump1_lengths, color=\"r\")\n",
    "plt.show()"
   ]
  }
 ],
 "metadata": {
  "anaconda-cloud": {},
  "kernelspec": {
   "display_name": "Python [default]",
   "language": "python",
   "name": "python3"
  },
  "language_info": {
   "codemirror_mode": {
    "name": "ipython",
    "version": 3
   },
   "file_extension": ".py",
   "mimetype": "text/x-python",
   "name": "python",
   "nbconvert_exporter": "python",
   "pygments_lexer": "ipython3",
   "version": "3.5.2"
  }
 },
 "nbformat": 4,
 "nbformat_minor": 1
}
